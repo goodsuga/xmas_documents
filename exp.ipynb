{
 "cells": [
  {
   "cell_type": "code",
   "execution_count": 1,
   "metadata": {},
   "outputs": [],
   "source": [
    "import pandas as pd\n",
    "from sklearn.feature_extraction.text import TfidfVectorizer, CountVectorizer\n",
    "from sklearn.metrics import f1_score, accuracy_score, make_scorer\n",
    "from sklearn.naive_bayes import MultinomialNB, CategoricalNB, GaussianNB, BernoulliNB\n",
    "from sklearn.pipeline import make_pipeline\n",
    "from sklearn.model_selection import cross_validate, RepeatedStratifiedKFold\n",
    "from statistics import mean\n",
    "from catboost import CatBoostClassifier\n",
    "import eli5\n",
    "from sklearn.pipeline import make_pipeline\n",
    "from IPython import display"
   ]
  },
  {
   "cell_type": "code",
   "execution_count": 28,
   "metadata": {},
   "outputs": [],
   "source": [
    "from sklearn.linear_model import LogisticRegressionCV\n",
    "import scipy\n",
    "import numpy as np\n",
    "from lime.lime_text import LimeTextExplainer\n",
    "from lime import lime_text"
   ]
  },
  {
   "cell_type": "code",
   "execution_count": 45,
   "metadata": {},
   "outputs": [],
   "source": [
    "data = pd.read_parquet(\"train_no_trash.pqt\")\n",
    "class_map = pd.factorize(data['Класс документа'])\n",
    "class_map = {document_class: document_class_index\n",
    "            for document_class_index, document_class in zip(class_map[0], class_map[1])}\n",
    "\n",
    "data['Класс документа (индекс)'] = data['Класс документа'].apply(class_map.get)\n",
    "clf = make_pipeline(TfidfVectorizer(lowercase=False, analyzer='word', min_df=3), MultinomialNB())\n",
    "clf.fit(data['Текст документа'], data['Класс документа (индекс)'])\n",
    "#clf = CatBoostClassifier().load_model(\"CatboostBaseline.cbm\")\n",
    "\n",
    "short_vers = list(map(lambda x: str(x)[-15:], data['Класс документа'].unique()))\n",
    "explainer = LimeTextExplainer(class_names=list(class_map.keys())) \n",
    "exp = explainer.explain_instance(data['Текст документа'].iloc[40], \n",
    "                                 clf.predict_proba, \n",
    "                                 num_features=30)\n",
    "#exp.show_in_notebook()\n",
    "exp.save_to_file(\"GGG\")\n",
    "#pd.DataFrame(exp.as_list(), columns=[\"Слово\", \"Уверенность\"]).query(\"Уверенность > 0\").sort_values(by='Уверенность', ascending=False)"
   ]
  }
 ],
 "metadata": {
  "kernelspec": {
   "display_name": "Python 3.8.9 64-bit",
   "language": "python",
   "name": "python3"
  },
  "language_info": {
   "codemirror_mode": {
    "name": "ipython",
    "version": 3
   },
   "file_extension": ".py",
   "mimetype": "text/x-python",
   "name": "python",
   "nbconvert_exporter": "python",
   "pygments_lexer": "ipython3",
   "version": "3.8.9"
  },
  "orig_nbformat": 4,
  "vscode": {
   "interpreter": {
    "hash": "51fbbaeefd4e0b47e05bdb06ea8ac6f044734a7e93f39fba8b91e724e2315d3a"
   }
  }
 },
 "nbformat": 4,
 "nbformat_minor": 2
}
